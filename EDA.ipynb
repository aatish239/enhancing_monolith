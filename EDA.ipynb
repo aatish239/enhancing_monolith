{
 "cells": [
  {
   "cell_type": "code",
   "execution_count": 7,
   "id": "50669d71-097f-4013-8195-1a8ef1a55181",
   "metadata": {},
   "outputs": [],
   "source": [
    "import pandas as pd\n"
   ]
  },
  {
   "cell_type": "code",
   "execution_count": 57,
   "id": "59e98863-1c67-4717-aa80-dbe38f9d0325",
   "metadata": {},
   "outputs": [],
   "source": [
    "df = pd.read_csv('raw_datasets/moview_user_reviews.csv', names=['user_id', 'movie_id', 'user_rating', 'user_review'])"
   ]
  },
  {
   "cell_type": "code",
   "execution_count": 9,
   "id": "dd527223-d16e-409e-b301-bdedfebdb8f2",
   "metadata": {},
   "outputs": [
    {
     "data": {
      "text/plain": [
       "['.git',\n",
       " '.idea',\n",
       " '.ipynb_checkpoints',\n",
       " 'datasets',\n",
       " 'data_collection',\n",
       " 'data_preparation',\n",
       " 'EDA.ipynb',\n",
       " 'feature_extraction',\n",
       " 'raw_datasets',\n",
       " 'README.md',\n",
       " 'requirements.txt']"
      ]
     },
     "execution_count": 9,
     "metadata": {},
     "output_type": "execute_result"
    }
   ],
   "source": [
    "import os\n",
    "os.listdir()"
   ]
  },
  {
   "cell_type": "code",
   "execution_count": 58,
   "id": "f61a33a1-3e9a-4093-be41-ac1d4bd589bf",
   "metadata": {},
   "outputs": [
    {
     "data": {
      "text/html": [
       "<div>\n",
       "<style scoped>\n",
       "    .dataframe tbody tr th:only-of-type {\n",
       "        vertical-align: middle;\n",
       "    }\n",
       "\n",
       "    .dataframe tbody tr th {\n",
       "        vertical-align: top;\n",
       "    }\n",
       "\n",
       "    .dataframe thead th {\n",
       "        text-align: right;\n",
       "    }\n",
       "</style>\n",
       "<table border=\"1\" class=\"dataframe\">\n",
       "  <thead>\n",
       "    <tr style=\"text-align: right;\">\n",
       "      <th></th>\n",
       "      <th>user_id</th>\n",
       "      <th>movie_id</th>\n",
       "      <th>user_rating</th>\n",
       "      <th>user_review</th>\n",
       "    </tr>\n",
       "  </thead>\n",
       "  <tbody>\n",
       "    <tr>\n",
       "      <th>0</th>\n",
       "      <td>ur2467618</td>\n",
       "      <td>tt0000682</td>\n",
       "      <td>8</td>\n",
       "      <td>If you are a lover of the history of cinema, t...</td>\n",
       "    </tr>\n",
       "    <tr>\n",
       "      <th>1</th>\n",
       "      <td>ur10334028</td>\n",
       "      <td>tt0000682</td>\n",
       "      <td>6</td>\n",
       "      <td>Émile Cohl, a French caricaturist, is often de...</td>\n",
       "    </tr>\n",
       "    <tr>\n",
       "      <th>2</th>\n",
       "      <td>ur0278527</td>\n",
       "      <td>tt0000682</td>\n",
       "      <td>7</td>\n",
       "      <td>This is a pretty neat little film. It appears ...</td>\n",
       "    </tr>\n",
       "    <tr>\n",
       "      <th>3</th>\n",
       "      <td>ur13134536</td>\n",
       "      <td>tt0000682</td>\n",
       "      <td>7</td>\n",
       "      <td>Fantasmagorie (1908)\\n\\n**** (out of 4)\\n\\nLan...</td>\n",
       "    </tr>\n",
       "    <tr>\n",
       "      <th>4</th>\n",
       "      <td>ur1174539</td>\n",
       "      <td>tt0000682</td>\n",
       "      <td>7</td>\n",
       "      <td>Even if it wasn't rightly famous for being the...</td>\n",
       "    </tr>\n",
       "  </tbody>\n",
       "</table>\n",
       "</div>"
      ],
      "text/plain": [
       "      user_id   movie_id  user_rating  \\\n",
       "0   ur2467618  tt0000682            8   \n",
       "1  ur10334028  tt0000682            6   \n",
       "2   ur0278527  tt0000682            7   \n",
       "3  ur13134536  tt0000682            7   \n",
       "4   ur1174539  tt0000682            7   \n",
       "\n",
       "                                         user_review  \n",
       "0  If you are a lover of the history of cinema, t...  \n",
       "1  Émile Cohl, a French caricaturist, is often de...  \n",
       "2  This is a pretty neat little film. It appears ...  \n",
       "3  Fantasmagorie (1908)\\n\\n**** (out of 4)\\n\\nLan...  \n",
       "4  Even if it wasn't rightly famous for being the...  "
      ]
     },
     "execution_count": 58,
     "metadata": {},
     "output_type": "execute_result"
    }
   ],
   "source": [
    "df.head()"
   ]
  },
  {
   "cell_type": "code",
   "execution_count": 81,
   "id": "f52d9b46-106c-42c9-842e-0bc261a50adb",
   "metadata": {},
   "outputs": [
    {
     "data": {
      "text/plain": [
       "(250578, 4)"
      ]
     },
     "execution_count": 81,
     "metadata": {},
     "output_type": "execute_result"
    }
   ],
   "source": [
    "df.shape"
   ]
  },
  {
   "cell_type": "code",
   "execution_count": 83,
   "id": "1e482585-2bf9-4c89-9ac2-41075c30965a",
   "metadata": {},
   "outputs": [],
   "source": [
    "df.dropna(subset=['user_review'],inplace=True)"
   ]
  },
  {
   "cell_type": "code",
   "execution_count": 79,
   "id": "ab09b7b0-efd4-4b01-814e-19397a202fbf",
   "metadata": {},
   "outputs": [
    {
     "data": {
      "text/plain": [
       "32841"
      ]
     },
     "execution_count": 79,
     "metadata": {},
     "output_type": "execute_result"
    }
   ],
   "source": [
    "df.movie_id.nunique()"
   ]
  },
  {
   "cell_type": "code",
   "execution_count": 85,
   "id": "a5dc4c96-699d-4acd-9adb-abef164f37a3",
   "metadata": {},
   "outputs": [
    {
     "data": {
      "text/plain": [
       "40834"
      ]
     },
     "execution_count": 85,
     "metadata": {},
     "output_type": "execute_result"
    }
   ],
   "source": [
    "df.user_id.nunique()"
   ]
  },
  {
   "cell_type": "code",
   "execution_count": 73,
   "id": "3c5edc27-a62c-4c81-bae3-69afcae897e9",
   "metadata": {},
   "outputs": [
    {
     "data": {
      "text/html": [
       "<div>\n",
       "<style scoped>\n",
       "    .dataframe tbody tr th:only-of-type {\n",
       "        vertical-align: middle;\n",
       "    }\n",
       "\n",
       "    .dataframe tbody tr th {\n",
       "        vertical-align: top;\n",
       "    }\n",
       "\n",
       "    .dataframe thead th {\n",
       "        text-align: right;\n",
       "    }\n",
       "</style>\n",
       "<table border=\"1\" class=\"dataframe\">\n",
       "  <thead>\n",
       "    <tr style=\"text-align: right;\">\n",
       "      <th></th>\n",
       "      <th>user_id</th>\n",
       "      <th>movie_id</th>\n",
       "      <th>user_rating</th>\n",
       "      <th>user_review</th>\n",
       "    </tr>\n",
       "  </thead>\n",
       "  <tbody>\n",
       "    <tr>\n",
       "      <th>count</th>\n",
       "      <td>250578</td>\n",
       "      <td>250578</td>\n",
       "      <td>250578.000000</td>\n",
       "      <td>250578</td>\n",
       "    </tr>\n",
       "    <tr>\n",
       "      <th>unique</th>\n",
       "      <td>40834</td>\n",
       "      <td>32841</td>\n",
       "      <td>NaN</td>\n",
       "      <td>250519</td>\n",
       "    </tr>\n",
       "    <tr>\n",
       "      <th>top</th>\n",
       "      <td>ur2467618</td>\n",
       "      <td>tt0058403</td>\n",
       "      <td>NaN</td>\n",
       "      <td>When this show was on I watched it every time ...</td>\n",
       "    </tr>\n",
       "    <tr>\n",
       "      <th>freq</th>\n",
       "      <td>9485</td>\n",
       "      <td>24</td>\n",
       "      <td>NaN</td>\n",
       "      <td>5</td>\n",
       "    </tr>\n",
       "    <tr>\n",
       "      <th>mean</th>\n",
       "      <td>NaN</td>\n",
       "      <td>NaN</td>\n",
       "      <td>6.647519</td>\n",
       "      <td>NaN</td>\n",
       "    </tr>\n",
       "    <tr>\n",
       "      <th>std</th>\n",
       "      <td>NaN</td>\n",
       "      <td>NaN</td>\n",
       "      <td>2.073121</td>\n",
       "      <td>NaN</td>\n",
       "    </tr>\n",
       "    <tr>\n",
       "      <th>min</th>\n",
       "      <td>NaN</td>\n",
       "      <td>NaN</td>\n",
       "      <td>1.000000</td>\n",
       "      <td>NaN</td>\n",
       "    </tr>\n",
       "    <tr>\n",
       "      <th>25%</th>\n",
       "      <td>NaN</td>\n",
       "      <td>NaN</td>\n",
       "      <td>6.000000</td>\n",
       "      <td>NaN</td>\n",
       "    </tr>\n",
       "    <tr>\n",
       "      <th>50%</th>\n",
       "      <td>NaN</td>\n",
       "      <td>NaN</td>\n",
       "      <td>7.000000</td>\n",
       "      <td>NaN</td>\n",
       "    </tr>\n",
       "    <tr>\n",
       "      <th>75%</th>\n",
       "      <td>NaN</td>\n",
       "      <td>NaN</td>\n",
       "      <td>8.000000</td>\n",
       "      <td>NaN</td>\n",
       "    </tr>\n",
       "    <tr>\n",
       "      <th>max</th>\n",
       "      <td>NaN</td>\n",
       "      <td>NaN</td>\n",
       "      <td>10.000000</td>\n",
       "      <td>NaN</td>\n",
       "    </tr>\n",
       "  </tbody>\n",
       "</table>\n",
       "</div>"
      ],
      "text/plain": [
       "          user_id   movie_id    user_rating  \\\n",
       "count      250578     250578  250578.000000   \n",
       "unique      40834      32841            NaN   \n",
       "top     ur2467618  tt0058403            NaN   \n",
       "freq         9485         24            NaN   \n",
       "mean          NaN        NaN       6.647519   \n",
       "std           NaN        NaN       2.073121   \n",
       "min           NaN        NaN       1.000000   \n",
       "25%           NaN        NaN       6.000000   \n",
       "50%           NaN        NaN       7.000000   \n",
       "75%           NaN        NaN       8.000000   \n",
       "max           NaN        NaN      10.000000   \n",
       "\n",
       "                                              user_review  \n",
       "count                                              250578  \n",
       "unique                                             250519  \n",
       "top     When this show was on I watched it every time ...  \n",
       "freq                                                    5  \n",
       "mean                                                  NaN  \n",
       "std                                                   NaN  \n",
       "min                                                   NaN  \n",
       "25%                                                   NaN  \n",
       "50%                                                   NaN  \n",
       "75%                                                   NaN  \n",
       "max                                                   NaN  "
      ]
     },
     "execution_count": 73,
     "metadata": {},
     "output_type": "execute_result"
    }
   ],
   "source": [
    "df.describe(include='all')"
   ]
  },
  {
   "cell_type": "code",
   "execution_count": 91,
   "id": "031fa4d9-7703-493c-8255-0a67f4657b05",
   "metadata": {},
   "outputs": [
    {
     "data": {
      "text/plain": [
       "user_review\n",
       "When this show was on I watched it every time I could! I thought that the characters were really funny and all had great personalities. The animation in My opinion was crisp, clean, and really clear. Not to mention beautiful! Most of the characters in this show are hilarious like the Looney Tunes characters that we all love. in My opinion these characters are the funnies and talented ever seen. In fact, The things that goes on in this series' cartoons are in My opinion nuts which that is what makes them hilarious! There are so many to like and laugh at and the silly things they do! If you like the original Looney Tunes then I strongly recommend that you watch this show!                                                                                                                                                                                                                                                                                                                                                                                                                                                                                                                                                                                                                                                                                                                                                                                                                                                                                                                                                                                    5\n",
       "The \"Hunting Trilogy\" of Rabbit Fire (1951), Rabbit Seasoning (1952), and Duck! Rabbit! Duck! (1953) should be considered the comedic high water mark of the Chuck Jones-Michael Maltese collaboration. While they are seldom mentioned in lists of the \"greatest\" or \"most important\" cartoons in the history of animation, they are certainly THE FUNNIEST cartoons I've ever seen. Michael Maltese never got the credit that directors like Jones, Freleng or Avery got, but it's his dialogue and situations that make Warner Bros. cartoons, and these three in particular, some of the FUNNIEST ever made.                                                                                                                                                                                                                                                                                                                                                                                                                                                                                                                                                                                                                                                                                                                                                                                                                                                                                                                                                                                                                                                                          3\n",
       "This show never laughs at itself (setting it apart from most of the James Bond and follow-on genre shows). Instead, it projects the inimitable Patrick McGoohan as a consistently efficacious hero: fast-thinking, innovative, ultra-capable, tenaciously-focused on the mission, yet when achieving the mission is not enough, he's able to think outside the box, to re-define his goals and achieve success in a wider context.\\n\\nFor a little boy starving to see a hero on television, \"Danger Man\" (and the subsequent \"Secret Agent Man\") was just what I needed. A hundred times over the years, facing my own moments of challenge, I remembered how John Drake had handled things. Nevermind the detail of his job being a \"secret agent,\" the essential of this show is: a man of quintessential skill and reason who uses his mind to take him over, under, around or through all obstacles -- and *that* is what you take away from every episode.\\n\\nIt's food for the soul.                                                                                                                                                                                                                                                                                                                                                                                                                                                                                                                                                                                                                                                                                               2\n",
       "KG was a coloratura soprano versus ML tenor. Along the scores, KG's part is more difficult. Every syllabe of any piece ended by this soprano, but not by this tenor which was merely assistent! So, the real protagonist in the both musicals seems to be KG.\\n\\nKG's playing is dynamic, while that of ML only static. Thus, performing for the 2nd time Be My Love, KG's head movements are truly artistic and dynamic, while ML stays static. The same again with I'l Never Love You where 2 ladies and 2 gentlemen are catching one another's looks.\\n\\nHer personal life ended with two divorses as stated by courts due to the 'mental cruelty' of her both husbands. However, singing was her eternal aim and end, nothing was more important in her life than that. Recollecting the scene at the riverside, she mentions that in the same words. It's not a lady trick while refusing any further kiss. We do believe she is doing so because she is really afraid of her career getting lost due to a love adventure. So, she is playing herself.\\n\\nKG's creature is more powerful in any sense while she ended as a supervisor at the state university of Idaho.\\n\\nThat's why her name must be placed before that of ML, she is the real protagonist in the both musicals, The Toast of New Orleans and That Midnight Kiss.\\n\\nKG puts through the modernism style as for the way of dressing herself (more precisely, the Jugend Style), keeping her (mouth) make up properly sized versus that of these times in postmodernism. Those times will never come back again.\\n\\nThank you for having read my contribution.\\n\\nA.T., a university professor, Berlin, Germany.    2\n",
       "Even if you can't see a sub-titled version, you won't miss anything; as someone has already mentioned, the dialog in this film is extremely minimal. Instead, the viewer is immersed in the story through the natural sounds of the wild Bulgarian hills, empathic and creative (but never obtrusively 'there') camera-work and the amazingly expressive and authentic performances of the two lead actors.\\n\\nWhen this film was released it was seen by three million people in Bulgaria, and the population then was only 8 1/2 million.\\n\\nIt is sad to relate that the director, Metodi Andonov, lived only a few years after the making of this film. With so few examples existing of his craft, The Goat Horn is even more precious.\\n\\nAn absolutely beautiful, unforgettable film.                                                                                                                                                                                                                                                                                                                                                                                                                                                                                                                                                                                                                                                                                                                                                                                                                                                                                              2\n",
       "                                                                                                                                                                                                                                                                                                                                                                                                                                                                                                                                                                                                                                                                                                                                                                                                                                                                                                                                                                                                                                                                                                                                                                                                                                                                                                                                                                                                                                                                                                                                                                                                                                                                                         ..\n",
       "Larry (Chester Morris) hires photographer Pat (Nancy Kelly) for his magazine. They fall in love but there is a problem - her boyfriend Ben (Phillip Terry) back home. At first, as an excuse to fend off any advance from Larry, Pat pretends that Ben is her brother and that he is staying with her. The situation is made worse when Ben actually turns up and is forced to go along with the charade for the sake of Pat's job. This makes for a good comedy scene at a nightclub where Ben is given another date, Mavis (Roma Aldrich) to whom he shows absolutely no interest. Larry discovers the deceit just as a murder is committed and Pat is to stand trial for the crime. It's all in Larry's hands.....\\n\\nThis is a quick moving comedy that throws us a mystery towards the end. There are many good scenes and the dialogue is funny. The whole cast perform well in this enjoyable, tongue-in-cheek story and it is worth keeping onto to watch again. One criticism is the quality of the film. It's a story about the publishing business and it's no surprise to learn that photos were being faked to sell newspapers in those days just as they are today (especially on the fashion pages!). In this instance, they are even faked to solve a crime.                                                                                                                                                                                                                                                                                                                                                                                                              1\n",
       "William Pine and William Thomas -- Paramount's B producers who took sturdy projects and turned out decent movies on modest budgets, earning them the appellation of \"The Dollar bills\" -- have a fine one-hour flick in this movie. Nancy Kelly gets a photography gig at a New York magazine, with wolfish Chester Morris as her boss; she totes along would-be fiancé Philip Terry, claiming he is her brother, to stand off Morris. She's smart, hard-working and they gradually fall in love, with many a quip, when a murdered woman pops up -- and it looks exactly like the picture of Miss Kelly that she posed for the magazine; her alibi is Mr. Terry, but he's been shipped out on a convoy to Russia and lost at sea.\\n\\nRichard Gaines is along as the health-nut publisher, and there are a lot of good gags for the first three-quarters of the picture, until the murder mystery takes over. Dewey Robinson as a cab driver also has a few good lines.                                                                                                                                                                                                                                                                                                                                                                                                                                                                                                                                                                                                                                                                                                                   1\n",
       "How many films from the 1940s start with the misunderstanding caused by a name that could belong to either a man or a woman? That's how Double Exposure begins. Magazine editor Larry Burke (Chester Morris) hires a photographer he's never met named \"Pat\" (Nancy Kelly). Of course \"Pat\" ends up being a woman, setting the stage for a few laughs and a predictable romance. Things get complicated, however, when: (a) Pat's old beau shows up, and (b) Pat is accused of murder.\\n\\nDouble Exposure isn't anything deep, but it is a decent little film that I found reasonably entertaining. For me, the comedy bits (especially those involving the health-nut magazine owner) far outweighed the mystery elements. The killer's real identity was way too easy to guess. The film is also helped along by some snappy direction and pacing. Director William Berke really keeps things moving. The film's highlight (at least for me) has to be Nancy Kelly's performance. Delightful, charming, and funny would be a few of the adjectives I'd use to describe Kelly in Double Exposure. Her performance raises the film's enjoyment in my eyes to a notch slightly above average. Overall, if you go into Double Exposure without a ton of expectations, you might discover a nice little movie worth watching.\\n\\nFinally, another bit I liked was the storyline given to ex-boyfriend, Ben. I won't spoil it, but his final scene actually surprised me. Well done.\\n\\n6/10.                                                                                                                                                                                                 1\n",
       "Chester Morris stars with Nancy Kelly, Philip Terry, and Jane Farrar star in \"Double Exposure\" from 1944.\\n\\nChester Morris as Larry Burke works at a picture magazine called Flick, and he's not above faking a shot to get a good cover. The company needs photographers, so when his boss sees a plane crash photo done by one Pat Marvin, he has Larry hire him.\\n\\nWhen Pat arrives, he's a she, and a very attractive one at that. Pat has left behind a boyfriend, Ben (Terry) to come to New York, except that he shows up. She tells Larry that Ben is her brother. Larry gives him a job as well.\\n\\nLarry assigns Pat and Ben to a fictional murder mystery case that will involve photos. Pat has attracted a millionaire who is on his sixth wife or so and is going to Reno to divorce him. He gives Pat the keys to his apartment. So she and Ben set up the murder scene there.\\n\\nTo their surprise, there is a murder at the apartment later - and the pose is exactly like Pat's, face down on the divan. Naturally the police arrive. They believe Pat photographed the murdered woman after killing her, so she's indicted and is stuck in jail. Larry loves the publicity, but he realizes the murder has to be solved to get her out. So he goes to work.\\n\\nFunny, fast-moving film with some wild characters, including the crazy boss who makes his employees do calisthenics and passes out carrots. Morris and Kelly have good chemistry.\\n\\nI especially loved the photo faking which included a lot of cutting, pasting, and white-out. Just think, with Photoshop it would have been nothing.                                                              1\n",
       "George Lucas crafted an interesting narrative. Nope. The film is a disconnected series of vignettes that never converge or land with any impact.\\n\\nLucas' direction was skillful and interesting. Nope. There was nothing in the direction that felt connected or special. The scenes seemed to be blocked for ease of shooting and little more. If the movie hadn't been set at night, it would have been a visual bomb.\\n\\nThe characters were compelling and realistic. Nope. It was a series of tired archetypes.\\n\\nThe film was emotional and dramatic. Nope. I didn't develop any sense of empathy or sympathy for any of them.\\n\\nThe film was genuinely funny. Nope. How this was billed as a comedy is a total mystery.\\n\\nThe music was appropriate and woven well into the story. Nope. The music, while time appropriate, was overbearing and disconnected from the \"story\" (there wasn't one).\\n\\nBut there was a LOT of Wolfman Jack (for what that's worth).\\n\\nIf American Graffiti was ever considered a good film, it has lost its appeal over the years. I'm glad it scratches the itch for 75 year-olds as a trip down some mythical memory lane, but a good movie it is not.                                                                                                                                                                                                                                                                                                                                                                                                                                                                                       1\n",
       "Name: count, Length: 250519, dtype: int64"
      ]
     },
     "execution_count": 91,
     "metadata": {},
     "output_type": "execute_result"
    }
   ],
   "source": [
    "df['user_review'].value_counts(sort=True)"
   ]
  },
  {
   "cell_type": "code",
   "execution_count": 99,
   "id": "34f0a49d-7e4d-4d5d-985e-6fbd97255950",
   "metadata": {},
   "outputs": [
    {
     "name": "stdout",
     "output_type": "stream",
     "text": [
      "<class 'pandas.core.frame.DataFrame'>\n",
      "RangeIndex: 250578 entries, 0 to 250577\n",
      "Data columns (total 4 columns):\n",
      " #   Column       Non-Null Count   Dtype \n",
      "---  ------       --------------   ----- \n",
      " 0   user_id      250578 non-null  object\n",
      " 1   movie_id     250578 non-null  object\n",
      " 2   user_rating  250578 non-null  int64 \n",
      " 3   user_review  250578 non-null  object\n",
      "dtypes: int64(1), object(3)\n",
      "memory usage: 7.6+ MB\n"
     ]
    }
   ],
   "source": [
    "df.info()"
   ]
  },
  {
   "cell_type": "code",
   "execution_count": 103,
   "id": "05e1a6fe-11f3-4ac5-aa2a-4aa22ffd936b",
   "metadata": {},
   "outputs": [
    {
     "data": {
      "text/plain": [
       "user_id        0\n",
       "movie_id       0\n",
       "user_rating    0\n",
       "user_review    0\n",
       "dtype: int64"
      ]
     },
     "execution_count": 103,
     "metadata": {},
     "output_type": "execute_result"
    }
   ],
   "source": [
    "df['user_review'"
   ]
  },
  {
   "cell_type": "code",
   "execution_count": 125,
   "id": "b2b687d2-fef8-4b3f-8fb0-40a98ec1b8aa",
   "metadata": {},
   "outputs": [
    {
     "name": "stderr",
     "output_type": "stream",
     "text": [
      "C:\\Users\\aatis\\AppData\\Local\\Temp\\ipykernel_14168\\2020808689.py:3: DtypeWarning: Columns (10) have mixed types. Specify dtype option on import or set low_memory=False.\n",
      "  movies_df = pd.read_csv('raw_datasets/movies.csv', index_col=0)\n"
     ]
    }
   ],
   "source": [
    "import pandas as pd\n",
    "\n",
    "movies_df = pd.read_csv('raw_datasets/movies.csv', index_col=0)\n"
   ]
  },
  {
   "cell_type": "code",
   "execution_count": 107,
   "id": "8feb9725-652f-4cb7-8435-d8e3676b6f56",
   "metadata": {},
   "outputs": [
    {
     "data": {
      "text/html": [
       "<div>\n",
       "<style scoped>\n",
       "    .dataframe tbody tr th:only-of-type {\n",
       "        vertical-align: middle;\n",
       "    }\n",
       "\n",
       "    .dataframe tbody tr th {\n",
       "        vertical-align: top;\n",
       "    }\n",
       "\n",
       "    .dataframe thead th {\n",
       "        text-align: right;\n",
       "    }\n",
       "</style>\n",
       "<table border=\"1\" class=\"dataframe\">\n",
       "  <thead>\n",
       "    <tr style=\"text-align: right;\">\n",
       "      <th></th>\n",
       "      <th>tconst</th>\n",
       "      <th>averageRating</th>\n",
       "      <th>numVotes</th>\n",
       "      <th>directors</th>\n",
       "      <th>writers</th>\n",
       "      <th>titleType</th>\n",
       "      <th>primaryTitle</th>\n",
       "      <th>originalTitle</th>\n",
       "      <th>isAdult</th>\n",
       "      <th>startYear</th>\n",
       "      <th>endYear</th>\n",
       "      <th>runtimeMinutes</th>\n",
       "      <th>genres</th>\n",
       "    </tr>\n",
       "  </thead>\n",
       "  <tbody>\n",
       "    <tr>\n",
       "      <th>0</th>\n",
       "      <td>tt0000001</td>\n",
       "      <td>5.7</td>\n",
       "      <td>2118</td>\n",
       "      <td>nm0005690</td>\n",
       "      <td>\\N</td>\n",
       "      <td>short</td>\n",
       "      <td>Carmencita</td>\n",
       "      <td>Carmencita</td>\n",
       "      <td>0</td>\n",
       "      <td>1894</td>\n",
       "      <td>\\N</td>\n",
       "      <td>1</td>\n",
       "      <td>Documentary,Short</td>\n",
       "    </tr>\n",
       "    <tr>\n",
       "      <th>1</th>\n",
       "      <td>tt0000002</td>\n",
       "      <td>5.6</td>\n",
       "      <td>285</td>\n",
       "      <td>nm0721526</td>\n",
       "      <td>\\N</td>\n",
       "      <td>short</td>\n",
       "      <td>Le clown et ses chiens</td>\n",
       "      <td>Le clown et ses chiens</td>\n",
       "      <td>0</td>\n",
       "      <td>1892</td>\n",
       "      <td>\\N</td>\n",
       "      <td>5</td>\n",
       "      <td>Animation,Short</td>\n",
       "    </tr>\n",
       "    <tr>\n",
       "      <th>2</th>\n",
       "      <td>tt0000003</td>\n",
       "      <td>6.4</td>\n",
       "      <td>2158</td>\n",
       "      <td>nm0721526</td>\n",
       "      <td>\\N</td>\n",
       "      <td>short</td>\n",
       "      <td>Poor Pierrot</td>\n",
       "      <td>Pauvre Pierrot</td>\n",
       "      <td>0</td>\n",
       "      <td>1892</td>\n",
       "      <td>\\N</td>\n",
       "      <td>5</td>\n",
       "      <td>Animation,Comedy,Romance</td>\n",
       "    </tr>\n",
       "    <tr>\n",
       "      <th>3</th>\n",
       "      <td>tt0000004</td>\n",
       "      <td>5.3</td>\n",
       "      <td>183</td>\n",
       "      <td>nm0721526</td>\n",
       "      <td>\\N</td>\n",
       "      <td>short</td>\n",
       "      <td>Un bon bock</td>\n",
       "      <td>Un bon bock</td>\n",
       "      <td>0</td>\n",
       "      <td>1892</td>\n",
       "      <td>\\N</td>\n",
       "      <td>12</td>\n",
       "      <td>Animation,Short</td>\n",
       "    </tr>\n",
       "    <tr>\n",
       "      <th>4</th>\n",
       "      <td>tt0000005</td>\n",
       "      <td>6.2</td>\n",
       "      <td>2886</td>\n",
       "      <td>nm0005690</td>\n",
       "      <td>\\N</td>\n",
       "      <td>short</td>\n",
       "      <td>Blacksmith Scene</td>\n",
       "      <td>Blacksmith Scene</td>\n",
       "      <td>0</td>\n",
       "      <td>1893</td>\n",
       "      <td>\\N</td>\n",
       "      <td>1</td>\n",
       "      <td>Short</td>\n",
       "    </tr>\n",
       "  </tbody>\n",
       "</table>\n",
       "</div>"
      ],
      "text/plain": [
       "      tconst  averageRating  numVotes  directors writers titleType  \\\n",
       "0  tt0000001            5.7      2118  nm0005690      \\N     short   \n",
       "1  tt0000002            5.6       285  nm0721526      \\N     short   \n",
       "2  tt0000003            6.4      2158  nm0721526      \\N     short   \n",
       "3  tt0000004            5.3       183  nm0721526      \\N     short   \n",
       "4  tt0000005            6.2      2886  nm0005690      \\N     short   \n",
       "\n",
       "             primaryTitle           originalTitle  isAdult startYear endYear  \\\n",
       "0              Carmencita              Carmencita        0      1894      \\N   \n",
       "1  Le clown et ses chiens  Le clown et ses chiens        0      1892      \\N   \n",
       "2            Poor Pierrot          Pauvre Pierrot        0      1892      \\N   \n",
       "3             Un bon bock             Un bon bock        0      1892      \\N   \n",
       "4        Blacksmith Scene        Blacksmith Scene        0      1893      \\N   \n",
       "\n",
       "  runtimeMinutes                    genres  \n",
       "0              1         Documentary,Short  \n",
       "1              5           Animation,Short  \n",
       "2              5  Animation,Comedy,Romance  \n",
       "3             12           Animation,Short  \n",
       "4              1                     Short  "
      ]
     },
     "execution_count": 107,
     "metadata": {},
     "output_type": "execute_result"
    }
   ],
   "source": [
    "movies_df.head()"
   ]
  },
  {
   "cell_type": "code",
   "execution_count": 111,
   "id": "90c8652d-0233-40ac-8030-cb4ff7265276",
   "metadata": {},
   "outputs": [],
   "source": [
    "users_df = pd.read_csv('raw_datasets/moview_user_reviews.csv', names=['user_id', 'movie_id', 'user_rating', 'user_review'])"
   ]
  },
  {
   "cell_type": "code",
   "execution_count": 113,
   "id": "233d44aa-ca37-4b2a-92bd-e585e07c164e",
   "metadata": {},
   "outputs": [
    {
     "data": {
      "text/html": [
       "<div>\n",
       "<style scoped>\n",
       "    .dataframe tbody tr th:only-of-type {\n",
       "        vertical-align: middle;\n",
       "    }\n",
       "\n",
       "    .dataframe tbody tr th {\n",
       "        vertical-align: top;\n",
       "    }\n",
       "\n",
       "    .dataframe thead th {\n",
       "        text-align: right;\n",
       "    }\n",
       "</style>\n",
       "<table border=\"1\" class=\"dataframe\">\n",
       "  <thead>\n",
       "    <tr style=\"text-align: right;\">\n",
       "      <th></th>\n",
       "      <th>user_id</th>\n",
       "      <th>movie_id</th>\n",
       "      <th>user_rating</th>\n",
       "      <th>user_review</th>\n",
       "    </tr>\n",
       "  </thead>\n",
       "  <tbody>\n",
       "    <tr>\n",
       "      <th>0</th>\n",
       "      <td>ur2467618</td>\n",
       "      <td>tt0000682</td>\n",
       "      <td>8</td>\n",
       "      <td>If you are a lover of the history of cinema, t...</td>\n",
       "    </tr>\n",
       "    <tr>\n",
       "      <th>1</th>\n",
       "      <td>ur10334028</td>\n",
       "      <td>tt0000682</td>\n",
       "      <td>6</td>\n",
       "      <td>Émile Cohl, a French caricaturist, is often de...</td>\n",
       "    </tr>\n",
       "    <tr>\n",
       "      <th>2</th>\n",
       "      <td>ur0278527</td>\n",
       "      <td>tt0000682</td>\n",
       "      <td>7</td>\n",
       "      <td>This is a pretty neat little film. It appears ...</td>\n",
       "    </tr>\n",
       "    <tr>\n",
       "      <th>3</th>\n",
       "      <td>ur13134536</td>\n",
       "      <td>tt0000682</td>\n",
       "      <td>7</td>\n",
       "      <td>Fantasmagorie (1908)\\n\\n**** (out of 4)\\n\\nLan...</td>\n",
       "    </tr>\n",
       "    <tr>\n",
       "      <th>4</th>\n",
       "      <td>ur1174539</td>\n",
       "      <td>tt0000682</td>\n",
       "      <td>7</td>\n",
       "      <td>Even if it wasn't rightly famous for being the...</td>\n",
       "    </tr>\n",
       "  </tbody>\n",
       "</table>\n",
       "</div>"
      ],
      "text/plain": [
       "      user_id   movie_id  user_rating  \\\n",
       "0   ur2467618  tt0000682            8   \n",
       "1  ur10334028  tt0000682            6   \n",
       "2   ur0278527  tt0000682            7   \n",
       "3  ur13134536  tt0000682            7   \n",
       "4   ur1174539  tt0000682            7   \n",
       "\n",
       "                                         user_review  \n",
       "0  If you are a lover of the history of cinema, t...  \n",
       "1  Émile Cohl, a French caricaturist, is often de...  \n",
       "2  This is a pretty neat little film. It appears ...  \n",
       "3  Fantasmagorie (1908)\\n\\n**** (out of 4)\\n\\nLan...  \n",
       "4  Even if it wasn't rightly famous for being the...  "
      ]
     },
     "execution_count": 113,
     "metadata": {},
     "output_type": "execute_result"
    }
   ],
   "source": [
    "users_df.head()"
   ]
  },
  {
   "cell_type": "code",
   "execution_count": 127,
   "id": "6e88816f-277a-4cd9-bf63-e802acbea071",
   "metadata": {},
   "outputs": [],
   "source": [
    "movies_df_1 = movies_df[movies_df['tconst'].isin(users_df.movie_id)]"
   ]
  },
  {
   "cell_type": "code",
   "execution_count": 131,
   "id": "e3910603-1b69-4263-847a-e65e09502607",
   "metadata": {},
   "outputs": [
    {
     "data": {
      "text/plain": [
       "(32841, 13)"
      ]
     },
     "execution_count": 131,
     "metadata": {},
     "output_type": "execute_result"
    }
   ],
   "source": [
    "movies_df_1.shape"
   ]
  },
  {
   "cell_type": "code",
   "execution_count": 133,
   "id": "40484e44-9bc9-4310-8937-143731e92cb6",
   "metadata": {},
   "outputs": [
    {
     "name": "stderr",
     "output_type": "stream",
     "text": [
      "C:\\Users\\aatis\\AppData\\Local\\Temp\\ipykernel_14168\\2533176202.py:1: DtypeWarning: Columns (10) have mixed types. Specify dtype option on import or set low_memory=False.\n",
      "  movies_df = pd.read_csv('raw_datasets/movies.csv', index_col=0)\n"
     ]
    }
   ],
   "source": [
    "movies_df = pd.read_csv('raw_datasets/movies.csv', index_col=0)\n",
    "users_df = pd.read_csv('raw_datasets/moview_user_reviews.csv', names=['user_id', 'movie_id', 'user_rating', 'user_review'])\n",
    "movies_df_1 = movies_df[movies_df['tconst'].isin(users_df.movie_id)]\n",
    "\n",
    "users_df = pd.read_csv('raw_datasets/moview_user_reviews_20k.csv', names=['user_id', 'movie_id', 'user_rating', \n",
    "                                                                    'user_review'])\n",
    "movies_df_2 = movies_df[movies_df['tconst'].isin(users_df.movie_id)]\n",
    "combined_df = pd.concat([movies_df_1, movies_df_2]).drop_duplicates(subset='tconst')\n",
    "# combined_df.to_csv('../datasets/movies.csv')"
   ]
  },
  {
   "cell_type": "code",
   "execution_count": 137,
   "id": "85ce02f9-0bdd-4a1e-9023-cf4b47a09d74",
   "metadata": {},
   "outputs": [
    {
     "data": {
      "text/plain": [
       "(32853, 13)"
      ]
     },
     "execution_count": 137,
     "metadata": {},
     "output_type": "execute_result"
    }
   ],
   "source": [
    "combined_df.shape"
   ]
  },
  {
   "cell_type": "code",
   "execution_count": 141,
   "id": "ea23e111-67af-4c10-a219-3c163a56e141",
   "metadata": {},
   "outputs": [],
   "source": [
    "combined_df.to_csv('datasets/movies.csv')"
   ]
  },
  {
   "cell_type": "code",
   "execution_count": null,
   "id": "bcf6d13a-294f-4871-ab72-864b90b68aa3",
   "metadata": {},
   "outputs": [],
   "source": []
  }
 ],
 "metadata": {
  "kernelspec": {
   "display_name": "Python 3 (ipykernel)",
   "language": "python",
   "name": "python3"
  },
  "language_info": {
   "codemirror_mode": {
    "name": "ipython",
    "version": 3
   },
   "file_extension": ".py",
   "mimetype": "text/x-python",
   "name": "python",
   "nbconvert_exporter": "python",
   "pygments_lexer": "ipython3",
   "version": "3.12.4"
  }
 },
 "nbformat": 4,
 "nbformat_minor": 5
}
